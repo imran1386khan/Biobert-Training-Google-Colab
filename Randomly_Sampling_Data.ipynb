{
  "nbformat": 4,
  "nbformat_minor": 0,
  "metadata": {
    "colab": {
      "name": "Randomly Sampling Data.ipynb",
      "provenance": [],
      "authorship_tag": "ABX9TyMQDJpHhmL0EXpjILbq5sIk",
      "include_colab_link": true
    },
    "kernelspec": {
      "name": "python3",
      "display_name": "Python 3"
    }
  },
  "cells": [
    {
      "cell_type": "markdown",
      "metadata": {
        "id": "view-in-github",
        "colab_type": "text"
      },
      "source": [
        "<a href=\"https://colab.research.google.com/github/imran1386khan/Biobert-Training-Google-Colab/blob/master/Randomly_Sampling_Data.ipynb\" target=\"_parent\"><img src=\"https://colab.research.google.com/assets/colab-badge.svg\" alt=\"Open In Colab\"/></a>"
      ]
    },
    {
      "cell_type": "markdown",
      "metadata": {
        "id": "HPC7dgGwi3Bi",
        "colab_type": "text"
      },
      "source": [
        "Randomly Sampling Data"
      ]
    },
    {
      "cell_type": "code",
      "metadata": {
        "id": "0cNR-QIAiv3e",
        "colab_type": "code",
        "outputId": "f4ee7bdc-660c-4a00-8c0e-69b0afc15975",
        "colab": {
          "base_uri": "https://localhost:8080/",
          "height": 34
        }
      },
      "source": [
        "import random\n",
        "n = 120 # Population\n",
        "m = 30 # sampling size\n",
        "p = m/n # probability\n",
        "\n",
        "# generators = [\n",
        "#     np.random.multivariate_normal([1, 1], [[5, 1], [1, 5]]),             \n",
        "#     np.random.multivariate_normal([0, 0], [[5, 1], [1, 5]]), \n",
        "#     np.random.multivariate_normal([-1, -1], [[5, 1], [1, 5]])]\n",
        "\n",
        "generators = np.random.uniform(2,6,n)\n",
        "\n",
        "draw = np.random.choice([0,1,2], n, p=[p,(1-p)/2,(1-p)/2])\n",
        "\n",
        "sample = [generators[i] for i,val in enumerate(draw) if val == 0]\n",
        "\n",
        "sample"
      ],
      "execution_count": 0,
      "outputs": [
        {
          "output_type": "execute_result",
          "data": {
            "text/plain": [
              "31"
            ]
          },
          "metadata": {
            "tags": []
          },
          "execution_count": 61
        }
      ]
    }
  ]
}
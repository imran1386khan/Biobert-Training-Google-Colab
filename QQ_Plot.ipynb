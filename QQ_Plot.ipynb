{
  "nbformat": 4,
  "nbformat_minor": 0,
  "metadata": {
    "colab": {
      "name": "QQ Plot.ipynb",
      "provenance": [],
      "authorship_tag": "ABX9TyMOd5xXs27VSnIQXUvgbSRi",
      "include_colab_link": true
    },
    "kernelspec": {
      "name": "python3",
      "display_name": "Python 3"
    }
  },
  "cells": [
    {
      "cell_type": "markdown",
      "metadata": {
        "id": "view-in-github",
        "colab_type": "text"
      },
      "source": [
        "<a href=\"https://colab.research.google.com/github/imran1386khan/Biobert-Training-Google-Colab/blob/master/QQ_Plot.ipynb\" target=\"_parent\"><img src=\"https://colab.research.google.com/assets/colab-badge.svg\" alt=\"Open In Colab\"/></a>"
      ]
    },
    {
      "cell_type": "markdown",
      "metadata": {
        "id": "c905vSlViyIz",
        "colab_type": "text"
      },
      "source": [
        "Quintile-Quintile Plot"
      ]
    },
    {
      "cell_type": "code",
      "metadata": {
        "id": "ZkhGDIcDmWDB",
        "colab_type": "code",
        "outputId": "5e864c8d-4564-4d04-9175-25c290e27615",
        "colab": {
          "base_uri": "https://localhost:8080/",
          "height": 282
        }
      },
      "source": [
        "import numpy as np\n",
        "import matplotlib.pyplot as plt\n",
        "import seaborn as sns\n",
        "import scipy.stats as stats\n",
        "import statsmodels.api as sm \n",
        "\n",
        "std_normal = sorted(np.random.normal(0,1,100))\n",
        "\n",
        "# sns.distplot(std_normal)\n",
        "\n",
        "perc = [round(np.percentile(std_normal,i),2) for i in range(1,101)]\n",
        "\n",
        "sns.scatterplot(x=std_normal, y=perc)\n",
        "\n",
        "# sm.qqplot(std_normal, line='45')\n"
      ],
      "execution_count": 0,
      "outputs": [
        {
          "output_type": "execute_result",
          "data": {
            "text/plain": [
              "<matplotlib.axes._subplots.AxesSubplot at 0x7f516ddb7198>"
            ]
          },
          "metadata": {
            "tags": []
          },
          "execution_count": 29
        },
        {
          "output_type": "display_data",
          "data": {
            "image/png": "[encoded data removed]",
            "text/plain": [
              "<Figure size 432x288 with 1 Axes>"
            ]
          },
          "metadata": {
            "tags": [],
            "needs_background": "light"
          }
        }
      ]
    }
  ]
}
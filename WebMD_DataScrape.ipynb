{
  "nbformat": 4,
  "nbformat_minor": 0,
  "metadata": {
    "colab": {
      "name": "WebMD_DataScrape.ipynb",
      "provenance": [],
      "authorship_tag": "ABX9TyMWYibzXyUTZEiD4sZElLvT",
      "include_colab_link": true
    },
    "kernelspec": {
      "name": "python3",
      "display_name": "Python 3"
    }
  },
  "cells": [
    {
      "cell_type": "markdown",
      "metadata": {
        "id": "view-in-github",
        "colab_type": "text"
      },
      "source": [
        "<a href=\"https://colab.research.google.com/github/imran1386khan/Biobert-Training-Google-Colab/blob/master/WebMD_DataScrape.ipynb\" target=\"_parent\"><img src=\"https://colab.research.google.com/assets/colab-badge.svg\" alt=\"Open In Colab\"/></a>"
      ]
    },
    {
      "cell_type": "code",
      "metadata": {
        "id": "qYPQpyW7_sXz",
        "colab_type": "code",
        "colab": {}
      },
      "source": [
        "## Selenium Starts here\n",
        "\n",
        "import pandas as pd\n",
        "import numpy as np\n",
        "import os\n",
        "\n",
        "!apt-get update\n",
        "\n",
        "!apt install chromium-chromedriver\n",
        "!cp /usr/lib/chromium-browser/chromedriver /usr/bin\n",
        "!pip install selenium\n",
        "\n",
        "from selenium import webdriver\n",
        "options = webdriver.ChromeOptions()\n",
        "options.add_argument('-headless')\n",
        "options.add_argument('-no-sandbox')\n",
        "options.add_argument('-disable-dev-shm-usage')\n",
        "\n",
        "from selenium.webdriver.common.by import By\n",
        "\n",
        "wd = webdriver.Chrome('chromedriver',options=options)\n",
        "\n",
        "file_name = \"/content/drive/My Drive/Web_md_data/67_re.csv\"\n",
        "qa_pair = {}\n",
        "\n",
        "for idx in range(67,68):\n",
        "  wd.get(\"https://www.webmd.com/a-to-z-guides/qa\")\n",
        "  for link in wd.find_elements_by_xpath('//*[@id=\"ContentPane32\"]/div/div/div/ul/li['+ str(idx) +']/a'):\n",
        "    base_link = link.get_attribute('href')\n",
        "    if base_link != 'https://qa/default.htm':\n",
        "      print('BASE LINK : ',base_link)\n",
        "      for pg_num in range(100):\n",
        "        try:\n",
        "          wd.get(base_link + \"?pg=\" + str(pg_num)) # wget change to move to next page\n",
        "          for q_num in range(30):\n",
        "            wd.get(base_link + \"?pg=\" + str(pg_num)) # wget change for getting next question on the page\n",
        "            for question in wd.find_elements_by_xpath('//*[@id=\"ContentPane31\"]/div/div[2]/ul/li[' + str(q_num) + ']/a'):\n",
        "              que = question.get_attribute('href')\n",
        "              if len(que) > 5:\n",
        "                print('Question post lenth check > 5: ', que)\n",
        "                wd.get(que) # wget chnage to capture new 'que' and its corresponding 'ans'\n",
        "                question_obj = wd.find_element_by_xpath('//*[@id=\"ContentPane31\"]/div/div[3]/div/h1')\n",
        "                answer_obj = wd.find_element_by_xpath('//*[@id=\"art-ans\"]')\n",
        "                answer_text = answer_obj.text.replace('\\n', ',')\n",
        "                question_text = question_obj.text\n",
        "                # print(question_text)\n",
        "                # print(answer_text)\n",
        "                qa_pair.update({question_text : answer_text})\n",
        "            print('----question number {} on page {}----:'.format(q_num,pg_num))\n",
        "          print('----Moving to next page number : ----:', pg_num)\n",
        "          df = pd.DataFrame.from_dict(qa_pair, orient='index')\n",
        "          print('Creating DF')\n",
        "          df.reset_index(level=0, inplace=True)\n",
        "          df.rename(columns={'index':'Question', 0:'Answer'}, inplace =True)\n",
        "          if not os.path.isfile(file_name):\n",
        "            df.to_csv(file_name, index=False)\n",
        "            # print('Saving DF')\n",
        "          else:\n",
        "            df.to_csv(file_name, mode='a', index=False)\n",
        "        except:\n",
        "              pass\n"
      ],
      "execution_count": 0,
      "outputs": []
    }
  ]
}